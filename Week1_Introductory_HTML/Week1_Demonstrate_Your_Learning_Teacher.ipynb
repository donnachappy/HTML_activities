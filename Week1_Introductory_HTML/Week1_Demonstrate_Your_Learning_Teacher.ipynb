{
 "cells": [
  {
   "cell_type": "markdown",
   "id": "74d3d5e9",
   "metadata": {},
   "source": [
    "# Week 1 – Demonstrate Your Learning (Teacher Version)"
   ]
  },
  {
   "cell_type": "markdown",
   "id": "224bdcbe",
   "metadata": {},
   "source": [
    "\n",
    "🧭 **Purpose**  \n",
    "Formative check: can students apply **semantic HTML**, **accessibility basics**, **links**, and **Git workflow** to a tiny two-page site?\n",
    "\n",
    "📌 **Syllabus Links**\n",
    "- Designing and developing web pages (HTML, accessibility)\n",
    "- Use of standards (semantic tags, alt text, table headers)\n",
    "- Version control (Git/GitHub commits)\n"
   ]
  },
  {
   "cell_type": "markdown",
   "id": "41102185",
   "metadata": {},
   "source": [
    "\n",
    "## ✅ Quick Marking Checklist (tick or comment)\n",
    "| Criterion | Met? |\n",
    "|---|---|\n",
    "| Semantic layout on `index.html` (`header`, `nav`, `main`, `footer`) | ☐ |\n",
    "| Skip link works and targets `#main` | ☐ |\n",
    "| Two+ sections with headings and meaningful text | ☐ |\n",
    "| One image with accurate `alt` or `figure`+`figcaption` | ☐ |\n",
    "| Second page (`schedule.html`) contains an accessible table (`caption`, `thead`, `tbody`, `scope`) | ☐ |\n",
    "| Internal navigation works between pages and sections | ☐ |\n",
    "| At least two descriptive commits pushed to GitHub | ☐ |\n"
   ]
  },
  {
   "cell_type": "markdown",
   "id": "02175a85",
   "metadata": {},
   "source": [
    "\n",
    "## 💡 Model Answers / Guidance\n",
    "- **Semantic tags used most**: `header`, `nav`, `main`, `footer`, `section`, `h1/h2`.  \n",
    "- **Good `alt`**: describe the *purpose/meaning*, not just “image”.  \n",
    "- **Table accessibility**: include `<caption>`, use `<th scope=\"col\">` for headers, `<th scope=\"row\">` for the first cell of each row if appropriate.  \n",
    "- **Skip link**: must appear before header content; target an element with `id=\"main\"`.  \n",
    "- **Commits**: descriptive Conventional Commits, e.g. `feat: add schedule page with accessible table`.\n"
   ]
  },
  {
   "cell_type": "markdown",
   "id": "d2179bd9",
   "metadata": {},
   "source": [
    "\n",
    "## ⚠️ Common Issues & Fixes\n",
    "- **Skip link doesn’t jump** → Ensure `href=\"#main\"` and `<main id=\"main\">` exist.  \n",
    "- **Table headers not read properly** → Add `scope=\"col\"`/`scope=\"row\"` where needed.  \n",
    "- **Broken links between pages** → Use relative paths (`schedule.html`, `index.html`).  \n",
    "- **No alt text** → Add a meaningful `alt` or use empty alt (`alt=\"\"`) only for purely decorative images.\n"
   ]
  },
  {
   "cell_type": "markdown",
   "id": "46a2f691",
   "metadata": {},
   "source": [
    "\n",
    "## 🧩 Optional Extension\n",
    "- Add internal anchors (`#about`, `#contact`) and a “Back to top” link.  \n",
    "- Wrap the image in `<figure>` with `<figcaption>`.  \n",
    "- Add a minimal favicon link (covered Week 2–3).\n"
   ]
  },
  {
   "cell_type": "markdown",
   "id": "14d2df5f",
   "metadata": {},
   "source": [
    "\n",
    "## 🔎 Evidence Capture (screenshots)\n",
    "Ask students to embed a screenshot in their student notebook or push it to `images/` and link via Markdown. This supports rapid visual checks.\n"
   ]
  },
  {
   "cell_type": "markdown",
   "id": "affd0835",
   "metadata": {},
   "source": [
    "\n",
    "## ✍️ Suggested Feedback Snippets\n",
    "- *Great use of semantic landmarks; your skip link works perfectly.*  \n",
    "- *Consider improving your image alt to describe the content more clearly.*  \n",
    "- *Your table has headers but is missing a `<caption>` — add one for clarity and accessibility.*  \n",
    "- *Nice commit history — messages are clear and specific.*\n"
   ]
  }
 ],
 "metadata": {},
 "nbformat": 4,
 "nbformat_minor": 5
}