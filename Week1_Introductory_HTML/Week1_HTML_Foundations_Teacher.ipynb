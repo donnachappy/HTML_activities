{
 "cells": [
  {
   "cell_type": "markdown",
   "id": "f3b589a0",
   "metadata": {},
   "source": [
    "# Week 1 — HTML Foundations & GitHub Workflow (Teacher)"
   ]
  },
  {
   "cell_type": "markdown",
   "id": "be1197bb",
   "metadata": {},
   "source": [
    "\n",
    "🧭 **Learning Intentions & Success Criteria**\n",
    "\n",
    "**Learning Intentions**\n",
    "- I can explain how the web delivers pages and why HTML is the structural layer.\n",
    "- I can model building pages using headings, lists, images, and tables.\n",
    "- I can guide students to organise pages with semantic HTML and basic accessibility.\n",
    "- I can support students to commit and push work to GitHub with clear messages.\n",
    "\n",
    "**Success Criteria**\n",
    "- Students produce valid HTML that renders correctly.\n",
    "- Students use semantic tags and image `alt` text appropriately.\n",
    "- Students can explain why tags were chosen.\n",
    "- Students push work to GitHub with descriptive commit messages.\n"
   ]
  },
  {
   "cell_type": "markdown",
   "id": "e846ac73",
   "metadata": {},
   "source": [
    "\n",
    "📌 **Syllabus Dot Points (Stage 6 Software Engineering – Programming for the Web)**\n",
    "- Explore the applications of web programming (e.g., websites, web apps, PWAs)\n",
    "- Investigate how data is transferred on the internet (client–server, HTTP/HTTPS, DNS, IP)\n",
    "- Describe the function of web protocols and their ports (HTTP 80, HTTPS 443)\n",
    "- Design and develop web pages using HTML and CSS with attention to accessibility\n",
    "- Use version control systems (Git/GitHub) to manage and collaborate on code\n"
   ]
  },
  {
   "cell_type": "markdown",
   "id": "30e6724c",
   "metadata": {},
   "source": [
    "## 📘 Section 1 — HTML Essentials (Teacher Notes)"
   ]
  },
  {
   "cell_type": "markdown",
   "id": "87c7135d",
   "metadata": {},
   "source": [
    "\n",
    "**Teaching focus**  \n",
    "- Reinforce that **HTML = structure**, CSS = presentation, JavaScript = behaviour.  \n",
    "- Model indentation and correct nesting. Show how Live Server previews the file.\n",
    "- Encourage one `h1` per page; subsequent sections get `h2`, `h3`...\n",
    "\n",
    "**Watch for**\n",
    "- Missing closing tags, mis-nested elements.\n",
    "- Multiple `<h1>` headings, or headings used only for size rather than structure.\n",
    "- Students pasting entire documents inside `<body>` while leaving stray tags above.\n",
    "\n",
    "**Prompt**  \n",
    "> “Which parts of this code are *metadata* vs *visible content*?”  \n",
    "> “If the image didn’t load, would your `alt` help the user?”\n"
   ]
  },
  {
   "cell_type": "markdown",
   "id": "f857aece",
   "metadata": {},
   "source": [
    "### 💻 Demo — Minimal valid HTML"
   ]
  },
  {
   "cell_type": "markdown",
   "id": "f2d87ceb",
   "metadata": {},
   "source": [
    "```html\n",
    "<!DOCTYPE html>\n",
    "<html lang=\"en\">\n",
    "<head>\n",
    "  <meta charset=\"UTF-8\">\n",
    "  <title>My First Web Page</title>\n",
    "</head>\n",
    "<body>\n",
    "  <h1>Welcome to My First Page</h1>\n",
    "  <p>This page was built using HTML.</p>\n",
    "</body>\n",
    "</html>\n",
    "```"
   ]
  },
  {
   "cell_type": "markdown",
   "id": "ef12292d",
   "metadata": {},
   "source": [
    "## 📘 Section 2 — Headings, Lists & Colour (Teacher Notes)"
   ]
  },
  {
   "cell_type": "markdown",
   "id": "24942802",
   "metadata": {},
   "source": [
    "\n",
    "**Teaching focus**\n",
    "- Headings communicate **meaning and hierarchy**, not style.\n",
    "- Use simple inline colour for quick feedback in Week 1; move to external CSS in Week 2.\n",
    "\n",
    "**Watch for**\n",
    "- Students choosing low-contrast colours; nudge toward dark text on light background.\n",
    "- Overuse of inline `style` — it's fine this week, but emphasise it's temporary.\n",
    "\n",
    "**Prompt**\n",
    "> “What hierarchy of ideas are you expressing with your headings?”  \n",
    "> “How could a colour choice make text easier/harder to read?”\n"
   ]
  },
  {
   "cell_type": "markdown",
   "id": "55e080e0",
   "metadata": {},
   "source": [
    "### 💻 Demo — Headings, lists, and inline colour"
   ]
  },
  {
   "cell_type": "markdown",
   "id": "61fd907b",
   "metadata": {},
   "source": [
    "```html\n",
    "<h1 style=\"color:#2563eb;\">My Study Tracker</h1>\n",
    "<p style=\"color: rgb(100,116,139);\">A paragraph with a softer text colour.</p>\n",
    "\n",
    "<h2>Subjects I Am Studying</h2>\n",
    "<ul>\n",
    "  <li>Software Engineering</li>\n",
    "  <li>Mathematics Advanced</li>\n",
    "  <li>English Standard</li>\n",
    "</ul>\n",
    "\n",
    "<h2>Top 3 Study Tips</h2>\n",
    "<ol>\n",
    "  <li>Plan your time.</li>\n",
    "  <li>Work in short focused blocks.</li>\n",
    "  <li>Review your notes often.</li>\n",
    "</ol>\n",
    "```"
   ]
  },
  {
   "cell_type": "markdown",
   "id": "d878c58a",
   "metadata": {},
   "source": [
    "## 📘 Section 3 — Images & Tables (Teacher Notes)"
   ]
  },
  {
   "cell_type": "markdown",
   "id": "0e192924",
   "metadata": {},
   "source": [
    "\n",
    "**Teaching focus**\n",
    "- **Images:** `alt` conveys the same meaning as the image if it fails to load.\n",
    "- **Tables:** for **tabular data** only. Use `<caption>`, `<thead>`, `<tbody>`, and `scope` for accessibility.\n",
    "\n",
    "**Where does `<style>` go?**  \n",
    "- **Best practice:** inside `<head>` or (better) external `style.css`.\n",
    "- **Week 1 exception for speed:** You may temporarily place a small `<style>` block near the table demo to give instant visual feedback.  \n",
    "  **Tell students explicitly** you'll move styles to the `<head>` and then to `style.css` in Week 2.\n",
    "\n",
    "**Watch for**\n",
    "- Misplaced `<tr>`, `<td>`, `<th>` order.\n",
    "- Empty `alt` where a meaningful description is needed.\n",
    "\n",
    "**Prompt**\n",
    "> “If a screen reader announces this table, do the headers make sense?”\n"
   ]
  },
  {
   "cell_type": "markdown",
   "id": "e4492670",
   "metadata": {},
   "source": [
    "### 💻 Demo — Table with basic styles (shown in `<head>` here)"
   ]
  },
  {
   "cell_type": "markdown",
   "id": "801c6717",
   "metadata": {},
   "source": [
    "```html\n",
    "<!DOCTYPE html>\n",
    "<html lang=\"en\">\n",
    "<head>\n",
    "  <meta charset=\"UTF-8\">\n",
    "  <title>My Weekly Schedule</title>\n",
    "  <style>\n",
    "    table { border-collapse: collapse; width: 100%; }\n",
    "    th, td { border: 1px solid #cbd5e1; padding: 8px 12px; }\n",
    "    thead th { background: #f1f5f9; }\n",
    "    caption { font-weight: bold; margin-bottom: 6px; }\n",
    "  </style>\n",
    "</head>\n",
    "<body>\n",
    "  <h2>My Weekly Schedule</h2>\n",
    "  <table>\n",
    "    <caption>Subjects and teachers by day</caption>\n",
    "    <thead>\n",
    "      <tr>\n",
    "        <th scope=\"col\">Day</th>\n",
    "        <th scope=\"col\">Subject</th>\n",
    "        <th scope=\"col\">Teacher</th>\n",
    "      </tr>\n",
    "    </thead>\n",
    "    <tbody>\n",
    "      <tr>\n",
    "        <th scope=\"row\">Mon</th>\n",
    "        <td>Software Engineering</td>\n",
    "        <td>Mr Lee</td>\n",
    "      </tr>\n",
    "      <tr>\n",
    "        <th scope=\"row\">Tue</th>\n",
    "        <td>Mathematics Advanced</td>\n",
    "        <td>Ms Patel</td>\n",
    "      </tr>\n",
    "    </tbody>\n",
    "  </table>\n",
    "</body>\n",
    "</html>\n",
    "```"
   ]
  },
  {
   "cell_type": "markdown",
   "id": "a5266d57",
   "metadata": {},
   "source": [
    "## 📘 Section 4 — Semantic Structure & Accessibility (Teacher Notes)"
   ]
  },
  {
   "cell_type": "markdown",
   "id": "5132df26",
   "metadata": {},
   "source": [
    "\n",
    "**Teaching focus**\n",
    "- Semantic landmarks: `header`, `nav`, `main`, `footer`, `section`, `article`.\n",
    "- **Skip link** improves keyboard navigation; `aria-label` clarifies landmark purpose.\n",
    "- Link to the accessibility part of the syllabus.\n",
    "\n",
    "**Demonstration idea**\n",
    "- Turn on a screen reader (NVDA/ChromeVox). Press **Tab** to show the skip link, then headings list.\n",
    "\n",
    "**Watch for**\n",
    "- Heading order jumps (`h1` -> `h3` directly).\n",
    "- Missing `id` target for the skip link (`href=\"#main\"` but no `id=\"main\"`).\n",
    "\n",
    "**Prompt**\n",
    "> “How would a keyboard-only user move around this page?”\n"
   ]
  },
  {
   "cell_type": "markdown",
   "id": "a360e90e",
   "metadata": {},
   "source": [
    "### 💻 Demo — Semantic skeleton with skip link"
   ]
  },
  {
   "cell_type": "markdown",
   "id": "44b7d293",
   "metadata": {},
   "source": [
    "```html\n",
    "<!DOCTYPE html>\n",
    "<html lang=\"en\">\n",
    "<head>\n",
    "  <meta charset=\"UTF-8\">\n",
    "  <title>My Study Planner</title>\n",
    "</head>\n",
    "<body>\n",
    "  <a href=\"#main\" class=\"skip\">Skip to content</a>\n",
    "\n",
    "  <header>\n",
    "    <h1>My Study Planner</h1>\n",
    "    <nav aria-label=\"Primary\">\n",
    "      <a href=\"#home\">Home</a> |\n",
    "      <a href=\"#tasks\">Tasks</a> |\n",
    "      <a href=\"#about\">About</a>\n",
    "    </nav>\n",
    "  </header>\n",
    "\n",
    "  <main id=\"main\">\n",
    "    <section id=\"home\">\n",
    "      <h2>Welcome</h2>\n",
    "      <p>This app will help me track homework and assessments.</p>\n",
    "    </section>\n",
    "  </main>\n",
    "\n",
    "  <footer>\n",
    "    <small>&copy; 2025 My Study Planner</small>\n",
    "  </footer>\n",
    "</body>\n",
    "</html>\n",
    "```"
   ]
  },
  {
   "cell_type": "markdown",
   "id": "091af1ea",
   "metadata": {},
   "source": [
    "## ⚙️ Section 5 — GitHub Workflow (Teacher Notes)"
   ]
  },
  {
   "cell_type": "markdown",
   "id": "906107fd",
   "metadata": {},
   "source": [
    "\n",
    "**Teaching focus**\n",
    "- Use the GUI first (Source Control → message → Commit → Push). Then show terminal commands.\n",
    "\n",
    "**Conventional Commits**\n",
    "- `feat:`, `fix:`, `docs:`, `style:`, `refactor:`, `chore:` — be specific and short.\n",
    "\n",
    "**Common errors & quick fixes**\n",
    "| Error | Cause | Fix |\n",
    "|------|------|-----|\n",
    "| `fatal: not a git repository` | Wrong folder / not initialised | Open correct root folder, run `git init` |\n",
    "| Nothing changed online | Forgot add/commit before push | `git add .` → `git commit -m \"...\"` → `git push` |\n",
    "| Merge conflict | Edited same file in two places | Accept incoming/current, re-commit |\n",
    "| Rejected push (branch ahead/behind) | Remote changed since last pull | `git pull --rebase` then re-push |\n",
    "\n",
    "**Terminal commands (for reference)**\n"
   ]
  },
  {
   "cell_type": "markdown",
   "id": "aa361dfb",
   "metadata": {},
   "source": [
    "```bash\n",
    "git add .\n",
    "git commit -m \"feat: add semantic layout with header/nav/main/footer and skip link\"\n",
    "git push\n",
    "```"
   ]
  },
  {
   "cell_type": "markdown",
   "id": "f810961a",
   "metadata": {},
   "source": [
    "## 🧩 Extension & Practice Scenario (Optional)"
   ]
  },
  {
   "cell_type": "markdown",
   "id": "f199f6c1",
   "metadata": {},
   "source": [
    "\n",
    "**Scenario: Mini “About Me” site**  \n",
    "Ask students to build a *two-page* mini-site in a new folder `week1/04-mini-site/` using everything from Week 1.\n",
    "\n",
    "**Requirements**\n",
    "- Page 1: `index.html` with a semantic layout (`header/nav/main/footer`), skip link, and at least two sections.\n",
    "- Page 2: `schedule.html` containing one accessible table with `<caption>`, `<thead>`, `<tbody>`, and appropriate `scope`.\n",
    "- Include one image with meaningful `alt`.\n",
    "- Use at least one inline colour style (temporary) to highlight a heading.\n",
    "- Add one HTML comment explaining the page purpose near the top.\n",
    "\n",
    "**Stretch**\n",
    "- Link both pages through the nav (`<a href=\"schedule.html\">Schedule</a>` and back).\n",
    "- Add internal anchors to jump to sections (`#about`, `#contact`).\n",
    "\n",
    "**Commit messages**\n",
    "- `feat: add semantic homepage with skip link`\n",
    "- `feat: add schedule page with accessible table`\n"
   ]
  },
  {
   "cell_type": "markdown",
   "id": "3b9ec9ca",
   "metadata": {},
   "source": [
    "## 🔗 Resources (Teacher Quick Links)"
   ]
  },
  {
   "cell_type": "markdown",
   "id": "f9a6e427",
   "metadata": {},
   "source": [
    "\n",
    "- BBC / Code.org — *How the Internet Works*, *A Packet’s Tale*\n",
    "- MDN — HTML Elements Reference\n",
    "- MDN — Tables Guide\n",
    "- W3C — Accessibility Principles\n",
    "- W3Schools — HTML basics (student-friendly sandbox)\n"
   ]
  }
 ],
 "metadata": {},
 "nbformat": 4,
 "nbformat_minor": 5
}