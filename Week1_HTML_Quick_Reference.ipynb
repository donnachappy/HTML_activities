{
 "cells": [
  {
   "cell_type": "markdown",
   "id": "6726a804",
   "metadata": {},
   "source": [
    "# 🧱 Week 1 – HTML Quick Reference"
   ]
  },
  {
   "cell_type": "markdown",
   "id": "bbea327f",
   "metadata": {},
   "source": [
    "Glossary-style **What / Why / How / In Practice** blocks."
   ]
  },
  {
   "cell_type": "markdown",
   "id": "0f7434f0",
   "metadata": {},
   "source": [
    "### 🌐 What is HTML?\n",
    "**What:** Structure of a webpage.\n",
    "**Why:** Gives meaning to content; CSS styles; JS behaviour.\n",
    "**How:**"
   ]
  },
  {
   "cell_type": "markdown",
   "id": "4641f598",
   "metadata": {},
   "source": [
    "```html\n",
    "<!DOCTYPE html>\n",
    "<html lang=\"en\">\n",
    "  <head><title>My First Page</title></head>\n",
    "  <body><h1>Hello</h1></body>\n",
    "</html>\n",
    "```"
   ]
  },
  {
   "cell_type": "markdown",
   "id": "4acebc67",
   "metadata": {},
   "source": [
    "**In practice:** HTML is the skeleton.\n",
    "\n",
    "---"
   ]
  },
  {
   "cell_type": "markdown",
   "id": "9d7b3e87",
   "metadata": {},
   "source": [
    "### 🧩 HTML Page Structure\n",
    "**What:** `<!DOCTYPE>`, `<html>`, `<head>`, `<body>`.\n",
    "**Why:** Predictable structure for browsers and assistive tech.\n",
    "**How:**"
   ]
  },
  {
   "cell_type": "markdown",
   "id": "98a845d2",
   "metadata": {},
   "source": [
    "```html\n",
    "<!DOCTYPE html>\n",
    "<html lang=\"en\">\n",
    "<head>\n",
    "  <meta charset=\"UTF-8\">\n",
    "  <title>Title</title>\n",
    "</head>\n",
    "<body>\n",
    "  <!-- visible content -->\n",
    "</body>\n",
    "</html>\n",
    "```"
   ]
  },
  {
   "cell_type": "markdown",
   "id": "606b2940",
   "metadata": {},
   "source": [
    "**In practice:** `<head>` for metadata, `<body>` for content.\n",
    "\n",
    "---"
   ]
  },
  {
   "cell_type": "markdown",
   "id": "63aa0472",
   "metadata": {},
   "source": [
    "### 🪶 Common Tags"
   ]
  },
  {
   "cell_type": "markdown",
   "id": "66cf0dee",
   "metadata": {},
   "source": [
    "```html\n",
    "<h1>Main</h1>\n",
    "<p>Text</p>\n",
    "<a href=\"page.html\">Read more</a>\n",
    "<img src=\"img.jpg\" alt=\"Description\">\n",
    "<ul><li>Item</li></ul>\n",
    "<table>...</table>\n",
    "```"
   ]
  },
  {
   "cell_type": "markdown",
   "id": "02b374a7",
   "metadata": {},
   "source": [
    "---"
   ]
  },
  {
   "cell_type": "markdown",
   "id": "b926c43b",
   "metadata": {},
   "source": [
    "### 🧱 Semantic Tags"
   ]
  },
  {
   "cell_type": "markdown",
   "id": "6ba95522",
   "metadata": {},
   "source": [
    "```html\n",
    "<header><h1>My Blog</h1></header>\n",
    "<main><article><h2>Post</h2></article></main>\n",
    "<footer>© 2025</footer>\n",
    "```"
   ]
  },
  {
   "cell_type": "markdown",
   "id": "e87cd3ae",
   "metadata": {},
   "source": [
    "**In practice:** Use landmarks on every page.\n",
    "\n",
    "---"
   ]
  },
  {
   "cell_type": "markdown",
   "id": "7e951e5c",
   "metadata": {},
   "source": [
    "### 🧭 Accessibility Basics"
   ]
  },
  {
   "cell_type": "markdown",
   "id": "45243748",
   "metadata": {},
   "source": [
    "```html\n",
    "<a href=\"#main\" class=\"skip\">Skip to content</a>\n",
    "<nav aria-label=\"Primary\">...</nav>\n",
    "```"
   ]
  },
  {
   "cell_type": "markdown",
   "id": "92a7128c",
   "metadata": {},
   "source": [
    "**In practice:** Meaningful `alt`, clear link text.\n",
    "\n",
    "---"
   ]
  },
  {
   "cell_type": "markdown",
   "id": "ba9718c1",
   "metadata": {},
   "source": [
    "### 🧾 Tables"
   ]
  },
  {
   "cell_type": "markdown",
   "id": "d78f5396",
   "metadata": {},
   "source": [
    "```html\n",
    "<table>\n",
    "  <caption>Weekly Schedule</caption>\n",
    "  <thead><tr><th scope=\"col\">Day</th><th>Subject</th></tr></thead>\n",
    "  <tbody><tr><th scope=\"row\">Mon</th><td>Maths</td></tr></tbody>\n",
    "</table>\n",
    "```"
   ]
  },
  {
   "cell_type": "markdown",
   "id": "2d85dd00",
   "metadata": {},
   "source": [
    "**In practice:** Include `caption` and `scope`.\n",
    "\n",
    "---"
   ]
  },
  {
   "cell_type": "markdown",
   "id": "325319d9",
   "metadata": {},
   "source": [
    "### 💬 Comments"
   ]
  },
  {
   "cell_type": "markdown",
   "id": "dbdab704",
   "metadata": {},
   "source": [
    "```html\n",
    "<!-- Explain a section or give context -->\n",
    "```"
   ]
  },
  {
   "cell_type": "markdown",
   "id": "65bbd4e5",
   "metadata": {},
   "source": [
    "---"
   ]
  },
  {
   "cell_type": "markdown",
   "id": "d8dc7285",
   "metadata": {},
   "source": [
    "### ⚙️ GitHub Workflow (Basics)"
   ]
  },
  {
   "cell_type": "markdown",
   "id": "795ee065",
   "metadata": {},
   "source": [
    "```bash\n",
    "git add .\n",
    "git commit -m \"feat: add semantic homepage\"\n",
    "git push\n",
    "```"
   ]
  },
  {
   "cell_type": "markdown",
   "id": "b9af12e8",
   "metadata": {},
   "source": [
    "Use Conventional Commits (`feat:`, `fix:`, `docs:`...).\n",
    "\n",
    "---"
   ]
  },
  {
   "cell_type": "markdown",
   "id": "dac85151",
   "metadata": {},
   "source": [
    "### 🧠 Summary\n",
    "Build valid, semantic, accessible pages; commit and push often."
   ]
  }
 ],
 "metadata": {},
 "nbformat": 4,
 "nbformat_minor": 5
}